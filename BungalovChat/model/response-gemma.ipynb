{
  "nbformat": 4,
  "nbformat_minor": 0,
  "metadata": {
    "colab": {
      "provenance": [],
      "machine_shape": "hm",
      "gpuType": "A100",
      "authorship_tag": "ABX9TyPR+MaePQlY4kEwwEGgGg0B"
    },
    "kernelspec": {
      "name": "python3",
      "display_name": "Python 3"
    },
    "language_info": {
      "name": "python"
    },
    "accelerator": "GPU",
    "widgets": {
      "application/vnd.jupyter.widget-state+json": {
        "93e4c9fb03a8435fbb21c72c36014032": {
          "model_module": "@jupyter-widgets/controls",
          "model_name": "HBoxModel",
          "model_module_version": "1.5.0",
          "state": {
            "_dom_classes": [],
            "_model_module": "@jupyter-widgets/controls",
            "_model_module_version": "1.5.0",
            "_model_name": "HBoxModel",
            "_view_count": null,
            "_view_module": "@jupyter-widgets/controls",
            "_view_module_version": "1.5.0",
            "_view_name": "HBoxView",
            "box_style": "",
            "children": [
              "IPY_MODEL_664de242f56148b89a018ab113ec3584",
              "IPY_MODEL_03c996b44a714aaa91996092512508bb",
              "IPY_MODEL_8e1f46c0f19b43e68927288860f989c7"
            ],
            "layout": "IPY_MODEL_7ad0279f89dc4e9299b8bea891749c48"
          }
        },
        "664de242f56148b89a018ab113ec3584": {
          "model_module": "@jupyter-widgets/controls",
          "model_name": "HTMLModel",
          "model_module_version": "1.5.0",
          "state": {
            "_dom_classes": [],
            "_model_module": "@jupyter-widgets/controls",
            "_model_module_version": "1.5.0",
            "_model_name": "HTMLModel",
            "_view_count": null,
            "_view_module": "@jupyter-widgets/controls",
            "_view_module_version": "1.5.0",
            "_view_name": "HTMLView",
            "description": "",
            "description_tooltip": null,
            "layout": "IPY_MODEL_46c4f3dd41d34857a6053558ac794c4f",
            "placeholder": "​",
            "style": "IPY_MODEL_a897da68f88e464fab99b5d8e7311372",
            "value": "Loading checkpoint shards: 100%"
          }
        },
        "03c996b44a714aaa91996092512508bb": {
          "model_module": "@jupyter-widgets/controls",
          "model_name": "FloatProgressModel",
          "model_module_version": "1.5.0",
          "state": {
            "_dom_classes": [],
            "_model_module": "@jupyter-widgets/controls",
            "_model_module_version": "1.5.0",
            "_model_name": "FloatProgressModel",
            "_view_count": null,
            "_view_module": "@jupyter-widgets/controls",
            "_view_module_version": "1.5.0",
            "_view_name": "ProgressView",
            "bar_style": "success",
            "description": "",
            "description_tooltip": null,
            "layout": "IPY_MODEL_3f91614cb2c54f6d89829622872a530d",
            "max": 3,
            "min": 0,
            "orientation": "horizontal",
            "style": "IPY_MODEL_3833b6fce8bf48c689799929af062fd9",
            "value": 3
          }
        },
        "8e1f46c0f19b43e68927288860f989c7": {
          "model_module": "@jupyter-widgets/controls",
          "model_name": "HTMLModel",
          "model_module_version": "1.5.0",
          "state": {
            "_dom_classes": [],
            "_model_module": "@jupyter-widgets/controls",
            "_model_module_version": "1.5.0",
            "_model_name": "HTMLModel",
            "_view_count": null,
            "_view_module": "@jupyter-widgets/controls",
            "_view_module_version": "1.5.0",
            "_view_name": "HTMLView",
            "description": "",
            "description_tooltip": null,
            "layout": "IPY_MODEL_0ef2f68000c744629da8b4da5d65f6bd",
            "placeholder": "​",
            "style": "IPY_MODEL_410df0b388ca47538adfa6de6d871d60",
            "value": " 3/3 [02:31&lt;00:00, 43.23s/it]"
          }
        },
        "7ad0279f89dc4e9299b8bea891749c48": {
          "model_module": "@jupyter-widgets/base",
          "model_name": "LayoutModel",
          "model_module_version": "1.2.0",
          "state": {
            "_model_module": "@jupyter-widgets/base",
            "_model_module_version": "1.2.0",
            "_model_name": "LayoutModel",
            "_view_count": null,
            "_view_module": "@jupyter-widgets/base",
            "_view_module_version": "1.2.0",
            "_view_name": "LayoutView",
            "align_content": null,
            "align_items": null,
            "align_self": null,
            "border": null,
            "bottom": null,
            "display": null,
            "flex": null,
            "flex_flow": null,
            "grid_area": null,
            "grid_auto_columns": null,
            "grid_auto_flow": null,
            "grid_auto_rows": null,
            "grid_column": null,
            "grid_gap": null,
            "grid_row": null,
            "grid_template_areas": null,
            "grid_template_columns": null,
            "grid_template_rows": null,
            "height": null,
            "justify_content": null,
            "justify_items": null,
            "left": null,
            "margin": null,
            "max_height": null,
            "max_width": null,
            "min_height": null,
            "min_width": null,
            "object_fit": null,
            "object_position": null,
            "order": null,
            "overflow": null,
            "overflow_x": null,
            "overflow_y": null,
            "padding": null,
            "right": null,
            "top": null,
            "visibility": null,
            "width": null
          }
        },
        "46c4f3dd41d34857a6053558ac794c4f": {
          "model_module": "@jupyter-widgets/base",
          "model_name": "LayoutModel",
          "model_module_version": "1.2.0",
          "state": {
            "_model_module": "@jupyter-widgets/base",
            "_model_module_version": "1.2.0",
            "_model_name": "LayoutModel",
            "_view_count": null,
            "_view_module": "@jupyter-widgets/base",
            "_view_module_version": "1.2.0",
            "_view_name": "LayoutView",
            "align_content": null,
            "align_items": null,
            "align_self": null,
            "border": null,
            "bottom": null,
            "display": null,
            "flex": null,
            "flex_flow": null,
            "grid_area": null,
            "grid_auto_columns": null,
            "grid_auto_flow": null,
            "grid_auto_rows": null,
            "grid_column": null,
            "grid_gap": null,
            "grid_row": null,
            "grid_template_areas": null,
            "grid_template_columns": null,
            "grid_template_rows": null,
            "height": null,
            "justify_content": null,
            "justify_items": null,
            "left": null,
            "margin": null,
            "max_height": null,
            "max_width": null,
            "min_height": null,
            "min_width": null,
            "object_fit": null,
            "object_position": null,
            "order": null,
            "overflow": null,
            "overflow_x": null,
            "overflow_y": null,
            "padding": null,
            "right": null,
            "top": null,
            "visibility": null,
            "width": null
          }
        },
        "a897da68f88e464fab99b5d8e7311372": {
          "model_module": "@jupyter-widgets/controls",
          "model_name": "DescriptionStyleModel",
          "model_module_version": "1.5.0",
          "state": {
            "_model_module": "@jupyter-widgets/controls",
            "_model_module_version": "1.5.0",
            "_model_name": "DescriptionStyleModel",
            "_view_count": null,
            "_view_module": "@jupyter-widgets/base",
            "_view_module_version": "1.2.0",
            "_view_name": "StyleView",
            "description_width": ""
          }
        },
        "3f91614cb2c54f6d89829622872a530d": {
          "model_module": "@jupyter-widgets/base",
          "model_name": "LayoutModel",
          "model_module_version": "1.2.0",
          "state": {
            "_model_module": "@jupyter-widgets/base",
            "_model_module_version": "1.2.0",
            "_model_name": "LayoutModel",
            "_view_count": null,
            "_view_module": "@jupyter-widgets/base",
            "_view_module_version": "1.2.0",
            "_view_name": "LayoutView",
            "align_content": null,
            "align_items": null,
            "align_self": null,
            "border": null,
            "bottom": null,
            "display": null,
            "flex": null,
            "flex_flow": null,
            "grid_area": null,
            "grid_auto_columns": null,
            "grid_auto_flow": null,
            "grid_auto_rows": null,
            "grid_column": null,
            "grid_gap": null,
            "grid_row": null,
            "grid_template_areas": null,
            "grid_template_columns": null,
            "grid_template_rows": null,
            "height": null,
            "justify_content": null,
            "justify_items": null,
            "left": null,
            "margin": null,
            "max_height": null,
            "max_width": null,
            "min_height": null,
            "min_width": null,
            "object_fit": null,
            "object_position": null,
            "order": null,
            "overflow": null,
            "overflow_x": null,
            "overflow_y": null,
            "padding": null,
            "right": null,
            "top": null,
            "visibility": null,
            "width": null
          }
        },
        "3833b6fce8bf48c689799929af062fd9": {
          "model_module": "@jupyter-widgets/controls",
          "model_name": "ProgressStyleModel",
          "model_module_version": "1.5.0",
          "state": {
            "_model_module": "@jupyter-widgets/controls",
            "_model_module_version": "1.5.0",
            "_model_name": "ProgressStyleModel",
            "_view_count": null,
            "_view_module": "@jupyter-widgets/base",
            "_view_module_version": "1.2.0",
            "_view_name": "StyleView",
            "bar_color": null,
            "description_width": ""
          }
        },
        "0ef2f68000c744629da8b4da5d65f6bd": {
          "model_module": "@jupyter-widgets/base",
          "model_name": "LayoutModel",
          "model_module_version": "1.2.0",
          "state": {
            "_model_module": "@jupyter-widgets/base",
            "_model_module_version": "1.2.0",
            "_model_name": "LayoutModel",
            "_view_count": null,
            "_view_module": "@jupyter-widgets/base",
            "_view_module_version": "1.2.0",
            "_view_name": "LayoutView",
            "align_content": null,
            "align_items": null,
            "align_self": null,
            "border": null,
            "bottom": null,
            "display": null,
            "flex": null,
            "flex_flow": null,
            "grid_area": null,
            "grid_auto_columns": null,
            "grid_auto_flow": null,
            "grid_auto_rows": null,
            "grid_column": null,
            "grid_gap": null,
            "grid_row": null,
            "grid_template_areas": null,
            "grid_template_columns": null,
            "grid_template_rows": null,
            "height": null,
            "justify_content": null,
            "justify_items": null,
            "left": null,
            "margin": null,
            "max_height": null,
            "max_width": null,
            "min_height": null,
            "min_width": null,
            "object_fit": null,
            "object_position": null,
            "order": null,
            "overflow": null,
            "overflow_x": null,
            "overflow_y": null,
            "padding": null,
            "right": null,
            "top": null,
            "visibility": null,
            "width": null
          }
        },
        "410df0b388ca47538adfa6de6d871d60": {
          "model_module": "@jupyter-widgets/controls",
          "model_name": "DescriptionStyleModel",
          "model_module_version": "1.5.0",
          "state": {
            "_model_module": "@jupyter-widgets/controls",
            "_model_module_version": "1.5.0",
            "_model_name": "DescriptionStyleModel",
            "_view_count": null,
            "_view_module": "@jupyter-widgets/base",
            "_view_module_version": "1.2.0",
            "_view_name": "StyleView",
            "description_width": ""
          }
        }
      }
    }
  },
  "cells": [
    {
      "cell_type": "code",
      "source": [
        "from google.colab import drive\n",
        "drive.mount('/content/drive')"
      ],
      "metadata": {
        "colab": {
          "base_uri": "https://localhost:8080/"
        },
        "id": "q1e0nwIXabqq",
        "executionInfo": {
          "status": "ok",
          "timestamp": 1752955649254,
          "user_tz": -180,
          "elapsed": 2988,
          "user": {
            "displayName": "Oğuzkaan Yılmaz",
            "userId": "05316760924862340612"
          }
        },
        "outputId": "58f94b92-5dbe-4ba1-dc09-323eece41322"
      },
      "execution_count": null,
      "outputs": [
        {
          "output_type": "stream",
          "name": "stdout",
          "text": [
            "Drive already mounted at /content/drive; to attempt to forcibly remount, call drive.mount(\"/content/drive\", force_remount=True).\n"
          ]
        }
      ]
    },
    {
      "cell_type": "code",
      "source": [
        "import torch\n",
        "from transformers import AutoTokenizer, AutoModelForCausalLM, BitsAndBytesConfig\n",
        "from peft import PeftModel, TaskType"
      ],
      "metadata": {
        "id": "WjEF86AGauyW"
      },
      "execution_count": null,
      "outputs": []
    },
    {
      "cell_type": "code",
      "source": [
        "base_model_drive_path = \"/content/drive/MyDrive/LLM_Modellerim/Turkish-Gemma-9b-v0.1\"\n",
        "lora_adapter_drive_path = \"/content/drive/MyDrive/finetuned-gemma\""
      ],
      "metadata": {
        "id": "3M0itEO0bFK_"
      },
      "execution_count": null,
      "outputs": []
    },
    {
      "cell_type": "code",
      "source": [
        "bnb_config = BitsAndBytesConfig(\n",
        "    load_in_8bit=True,\n",
        "    llm_int8_enable_fp32_cpu_offload=True, # GPU belleği yetersizse CPU'ya aktarım\n",
        "    llm_int8_threshold=6.0\n",
        ")"
      ],
      "metadata": {
        "id": "rKd5aQZmbZg3"
      },
      "execution_count": null,
      "outputs": []
    },
    {
      "cell_type": "code",
      "source": [
        "print(f\"Temel model '{base_model_drive_path}' konumundan (Google Drive) yükleniyor...\")\n",
        "tokenizer = AutoTokenizer.from_pretrained(base_model_drive_path, trust_remote_code=True)\n",
        "base_model_loaded = AutoModelForCausalLM.from_pretrained(\n",
        "    base_model_drive_path, # Modelin Drive'daki yolu\n",
        "    device_map=\"auto\",\n",
        "    quantization_config=bnb_config,\n",
        "    trust_remote_code=True,\n",
        "    torch_dtype=torch.float16, # Yarı hassasiyet, bellek tasarrufu sağlar\n",
        "    low_cpu_mem_usage=True # CPU kullanımı düşük tutar\n",
        ")"
      ],
      "metadata": {
        "colab": {
          "base_uri": "https://localhost:8080/",
          "height": 124,
          "referenced_widgets": [
            "93e4c9fb03a8435fbb21c72c36014032",
            "664de242f56148b89a018ab113ec3584",
            "03c996b44a714aaa91996092512508bb",
            "8e1f46c0f19b43e68927288860f989c7",
            "7ad0279f89dc4e9299b8bea891749c48",
            "46c4f3dd41d34857a6053558ac794c4f",
            "a897da68f88e464fab99b5d8e7311372",
            "3f91614cb2c54f6d89829622872a530d",
            "3833b6fce8bf48c689799929af062fd9",
            "0ef2f68000c744629da8b4da5d65f6bd",
            "410df0b388ca47538adfa6de6d871d60"
          ]
        },
        "id": "YzLs2gBTbecB",
        "executionInfo": {
          "status": "ok",
          "timestamp": 1752955814434,
          "user_tz": -180,
          "elapsed": 156603,
          "user": {
            "displayName": "Oğuzkaan Yılmaz",
            "userId": "05316760924862340612"
          }
        },
        "outputId": "0a3187dc-aed9-4f94-9a03-f5c969429edb"
      },
      "execution_count": null,
      "outputs": [
        {
          "output_type": "stream",
          "name": "stdout",
          "text": [
            "Temel model '/content/drive/MyDrive/LLM_Modellerim/Turkish-Gemma-9b-v0.1' konumundan (Google Drive) yükleniyor...\n"
          ]
        },
        {
          "output_type": "stream",
          "name": "stderr",
          "text": [
            "/usr/local/lib/python3.11/dist-packages/transformers/quantizers/auto.py:222: UserWarning: You passed `quantization_config` or equivalent parameters to `from_pretrained` but the model you're loading already has a `quantization_config` attribute. The `quantization_config` from the model will be used.\n",
            "  warnings.warn(warning_msg)\n"
          ]
        },
        {
          "output_type": "display_data",
          "data": {
            "text/plain": [
              "Loading checkpoint shards:   0%|          | 0/3 [00:00<?, ?it/s]"
            ],
            "application/vnd.jupyter.widget-view+json": {
              "version_major": 2,
              "version_minor": 0,
              "model_id": "93e4c9fb03a8435fbb21c72c36014032"
            }
          },
          "metadata": {}
        }
      ]
    },
    {
      "cell_type": "code",
      "source": [
        "final_lora_model = PeftModel.from_pretrained(base_model_loaded, lora_adapter_drive_path)"
      ],
      "metadata": {
        "id": "UwrOxGsWbk8c"
      },
      "execution_count": null,
      "outputs": []
    },
    {
      "cell_type": "code",
      "source": [
        "final_lora_model.print_trainable_parameters()"
      ],
      "metadata": {
        "colab": {
          "base_uri": "https://localhost:8080/"
        },
        "id": "OUvFiqfKceYd",
        "executionInfo": {
          "status": "ok",
          "timestamp": 1752955863047,
          "user_tz": -180,
          "elapsed": 6,
          "user": {
            "displayName": "Oğuzkaan Yılmaz",
            "userId": "05316760924862340612"
          }
        },
        "outputId": "46d63c36-f7ab-46b0-da10-0f2491080e46"
      },
      "execution_count": null,
      "outputs": [
        {
          "output_type": "stream",
          "name": "stdout",
          "text": [
            "trainable params: 0 || all params: 10,105,994,752 || trainable%: 0.0000\n"
          ]
        }
      ]
    },
    {
      "cell_type": "code",
      "source": [
        "def generate_response(model_to_use, tokenizer_to_use, user_prompt):\n",
        "\n",
        "    system_prompt = (\n",
        "        \"Sen, Asteria Doğa Bungalov'un yapay zeka sohbet asistanısın. Misafirlerin tesisimiz hakkında merak ettiği her şeyi nazik ve yardımcı bir tonda, **sadece sorulan soruya odaklanarak ve gereksiz detaylara girmeden yanıtla.** Verdiğin her cevabın ardından, **yalnızca 'Başka merak ettiğiniz bir şey var mı?' veya 'Size nasıl yardımcı olabilirim?' gibi teşvik edici bir soru sorarak diyalogu bitir.** \"\n",
        "        \"**KESİNLİKLE UYULMASI GEREKEN KURAL:** Konuşmayı **SADECE Asteria Doğa Bungalov ile ilgili konularla sınırlı tut.** İşletmemizle ilgisi olmayan veya bağlam dışı sorulara **ASLA doğrudan yanıt verme.** Bu tür sorulara her zaman şu ifadeyle yanıt ver: **'Ben Asteria Doğa Bungalov'un sohbet asistanıyım ve sadece tesisimizle ilgili sorulara yanıt verebilirim. Başka merak ettiğiniz bir şey var mı?'**\"\n",
        "        \"**BİLGİ SAHİBİ OLMADIĞIN KONULARDA KURAL:** Eğer Asteria Doğa Bungalov ile ilgili bir soru sorulursa ancak bu konuda **kesin ve direkt bilgin yoksa veya emin değilsen, asla uydurma bilgi verme.** Bu tür sorulara her zaman şu ifadeyle yanıt ver: **'Bu konuda size net bilgi veremiyorum, ancak resepsiyonumuz size memnuniyetle yardımcı olacaktır. Başka merak ettiğiniz bir şey var mı?**\"\n",
        "        \"**ÇOK ÖNEMLİ BİLGİLER:**\"\n",
        "        \"- **Yemek Hizmeti:** Bungalovumuzda **sadece sabah kahvaltısı servis edilmektedir.** Öğle ve akşam yemekleri için tesisimizde yemek hizmeti bulunmamaktadır.\"\n",
        "        \"- **Mutfak Olanakları:** Mutfakta **yemek pişirmek için ocak veya fırın mevcut değildir.** Sadece mini buzdolabı, mikrodalga fırın ve kahve makinesi gibi olanaklar mevcuttur. Dışarıda özel barbekü alanı mevcuttur.\"\n",
        "        \"- **Giriş Şartı:** Misafirlerin giriş yaparken **evlilik cüzdanı ibraz etme zorunluluğu yoktur.** Geçerli bir kimlik belgesi (T.C. kimlik kartı, ehliyet veya pasaport) yeterlidir.\"\n",
        "        \"- **Temizlik ve Hijyen:** Misafirlerimizin sağlığı ve konforu bizim önceliğimizdir. Bungalovlarımızda **yüksek temizlik standartları uygulanmaktadır. Her giriş öncesinde detaylı ve titiz bir temizlik yapılmaktadır.**\")\n",
        "\n",
        "    messages = [\n",
        "        {\"role\": \"system\", \"content\": system_prompt},\n",
        "        {\"role\": \"user\", \"content\": \"Mutfakta yemek yapmak için ocak var mı?\"},\n",
        "        {\"role\": \"model\", \"content\": \"Hayır, maalesef mutfağımızda yemek pişirmek için ocak veya fırın bulunmamaktadır. Amerikan tipi mutfağımızda mini buzdolabı, mikrodalga fırın ve kahve makinesi gibi imkanlar mevcuttur. Barbekü alanımız ise dışarıda kullanımınıza açıktır. Başka merak ettiğiniz bir şey var mı?\"},\n",
        "        {\"role\": \"user\", \"content\": \"Ne yiyebiliriz? Öğle yemeği var mı?\"},\n",
        "        {\"role\": \"model\", \"content\": \"Bungalovumuzda sadece sabah kahvaltısı servis edilmektedir. Öğle ve akşam yemekleri için tesisimizde yemek hizmeti bulunmamaktadır. Başka merak ettiğiniz bir şey var mı?\"},\n",
        "        {\"role\": \"user\", \"content\": \"Temizlik standartlarınız nelerdir?\"},\n",
        "        {\"role\": \"model\", \"content\": \"Misafirlerimizin sağlığı ve konforu bizim önceliğimizdir. Bungalovlarımızda yüksek temizlik standartları uygulanmaktadır ve her giriş öncesinde detaylı, titiz bir temizlik yapılmaktadır. Başka merak ettiğiniz bir şey var mı?\"},\n",
        "        {\"role\": \"user\", \"content\": \"Dünya'nın en büyük dağı hangisidir?\"},\n",
        "        {\"role\": \"model\", \"content\": \"Ben Asteria Doğa Bungalov'un sohbet asistanıyım ve sadece tesisimizle ilgili sorulara yanıt verebilirim. Başka merak ettiğiniz bir şey var mı?\"},\n",
        "        {\"role\": \"user\", \"content\": \"İstanbul'da hava durumu nasıl?\"},\n",
        "        {\"role\": \"model\", \"content\": \"Ben Asteria Doğa Bungalov'un sohbet asistanıyım ve sadece tesisimizle ilgili sorulara yanıt verebilirim. Başka merak ettiğiniz bir şey var mı?\"},\n",
        "        {\"role\": \"user\", \"content\": \"Matematik problemi çözebilir misin?\"},\n",
        "        {\"role\": \"model\", \"content\": \"Ben Asteria Doğa Bungalov'un sohbet asistanıyım ve sadece tesisimizle ilgili sorulara yanıt verebilirim. Başka merak ettiğiniz bir şey var mı?\"},\n",
        "         {\"role\": \"user\", \"content\": \"Fransa'nın başkenti neresidir?\"},\n",
        "        {\"role\": \"model\", \"content\": \"Ben Asteria Doğa Bungalov'un sohbet asistanıyım ve sadece tesisimizle ilgili sorulara yanıt verebilirim. Başka merak ettiğiniz bir şey var mı?\"},\n",
        "\n",
        "        {\"role\": \"user\", \"content\": user_prompt}\n",
        "    ]\n",
        "    inputs = tokenizer_to_use.apply_chat_template(\n",
        "        messages,\n",
        "        add_generation_prompt=True,\n",
        "        return_tensors=\"pt\"\n",
        "        ).to(model_to_use.device)\n",
        "\n",
        "    terminators = [\n",
        "    tokenizer.eos_token_id,\n",
        "    tokenizer.convert_tokens_to_ids(\"<end_of_turn>\")]\n",
        "\n",
        "    print(f\"\\nPrompt: '{user_prompt}' için yanıt üretiliyor...\")\n",
        "\n",
        "    outputs = model_to_use.generate(\n",
        "        inputs,\n",
        "        max_new_tokens=100,\n",
        "        do_sample=False, # Örnekleme tabanlı üretimi etkinleştir\n",
        "        eos_token_id=terminators,\n",
        "        #temperature=0.5, # Yaratıcılık derecesi (0.1'den 1.0'a kadar) (KULLANILMIYOR)\n",
        "        #top_p=0.8,       # En olası kelimelerin belli bir olasılık toplamını al(KULLANILMIYOR)\n",
        "        #top_k=40,        # En olası ilk K kelime arasından seçim yap(KULLANILMIYOR)\n",
        "        #repetition_penalty=1.2,\n",
        "        num_return_sequences=1\n",
        "    )\n",
        "\n",
        "    response = outputs[0][inputs.shape[-1]:]\n",
        "    parsed = tokenizer_to_use.decode(response, skip_special_tokens=True)\n",
        "    print(\"--- Model Yanıtı ---\")\n",
        "    print(parsed)\n",
        "    print(\"--------------------\")\n",
        "\n",
        "# Örnek Denemeler:\n",
        "\n",
        "generate_response(final_lora_model, tokenizer, \"Çevredeki popüler restoranlar hakkında bana tavsiyelerde bulun\")\n"
      ],
      "metadata": {
        "colab": {
          "base_uri": "https://localhost:8080/"
        },
        "id": "uvtGZbF6eZyz",
        "outputId": "ca998632-ec58-4f93-d565-d51c170a5fd3",
        "executionInfo": {
          "status": "ok",
          "timestamp": 1752955881333,
          "user_tz": -180,
          "elapsed": 18284,
          "user": {
            "displayName": "Oğuzkaan Yılmaz",
            "userId": "05316760924862340612"
          }
        }
      },
      "execution_count": null,
      "outputs": [
        {
          "output_type": "stream",
          "name": "stderr",
          "text": [
            "The following generation flags are not valid and may be ignored: ['temperature', 'top_p']. Set `TRANSFORMERS_VERBOSITY=info` for more details.\n"
          ]
        },
        {
          "output_type": "stream",
          "name": "stdout",
          "text": [
            "\n",
            "Prompt: 'Çevredeki popüler restoranlar hakkında bana tavsiyelerde bulun' için yanıt üretiliyor...\n",
            "--- Model Yanıtı ---\n",
            "Evet, yakın çevredeki popüler restoranlar hakkında yol tarifi ve iletişim bilgileri sunabiliriz. Rezervasyon için iletişime geçmenizi rica ederiz. Başka merak ettiğiniz bir şey var mı?\n",
            "--------------------\n"
          ]
        }
      ]
    },
    {
      "cell_type": "markdown",
      "source": [
        "# Yeni Bölüm"
      ],
      "metadata": {
        "id": "5UVsIg37S6bY"
      }
    },
    {
      "cell_type": "code",
      "source": [],
      "metadata": {
        "id": "V-cncpyuyQwl"
      },
      "execution_count": null,
      "outputs": []
    },
    {
      "cell_type": "code",
      "source": [],
      "metadata": {
        "id": "otyo8d5nSw26"
      },
      "execution_count": null,
      "outputs": []
    }
  ]
}